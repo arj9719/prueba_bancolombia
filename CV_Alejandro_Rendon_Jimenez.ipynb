{
 "cells": [
  {
   "cell_type": "markdown",
   "metadata": {},
   "source": [
    "# 2. Computer Vision"
   ]
  },
  {
   "cell_type": "markdown",
   "metadata": {},
   "source": [
    "Librerías"
   ]
  },
  {
   "cell_type": "code",
   "execution_count": 1,
   "metadata": {},
   "outputs": [],
   "source": [
    "import json\n",
    "import re"
   ]
  },
  {
   "cell_type": "markdown",
   "metadata": {},
   "source": [
    "Funbciones"
   ]
  },
  {
   "cell_type": "code",
   "execution_count": 2,
   "metadata": {},
   "outputs": [],
   "source": [
    "def load_json(file_path):\n",
    "    with open(file_path, 'r', encoding='utf-8') as file:\n",
    "        data = json.load(file)\n",
    "    return data"
   ]
  },
  {
   "cell_type": "code",
   "execution_count": 7,
   "metadata": {},
   "outputs": [],
   "source": [
    "def extract_info(data):\n",
    "    registration_number = \"\"\n",
    "    print_date = \"\"\n",
    "    department = \"\"\n",
    "    municipality = \"\"\n",
    "    locality = \"\"\n",
    "    status = \"\"\n",
    "    \n",
    "    # Diccionario para almacenar la información extraída\n",
    "    info = {\n",
    "        \"registration_number\": None,\n",
    "        \"print_date\": None,\n",
    "        \"department\": None,\n",
    "        \"municipality\": None,\n",
    "        \"locality\": None,\n",
    "        \"status\": None\n",
    "    }\n",
    "\n",
    "    # Mapeo de nombres de meses en español a números\n",
    "    month_mapping = {\n",
    "        \"Enero\": \"01\", \"Febrero\": \"02\", \"Marzo\": \"03\", \"Abril\": \"04\",\n",
    "        \"Mayo\": \"05\", \"Junio\": \"06\", \"Julio\": \"07\", \"Agosto\": \"08\",\n",
    "        \"Septiembre\": \"09\", \"Octubre\": \"10\", \"Noviembre\": \"11\", \"Diciembre\": \"12\"\n",
    "    }\n",
    "\n",
    "    # Variables auxiliares para el estado del folio\n",
    "    found_status_label = False\n",
    "\n",
    "    # Iterar sobre los bloques de texto en el JSON\n",
    "    for block in data.get('Blocks', []):\n",
    "        if block.get('BlockType') == 'LINE':\n",
    "            text = block.get('Text', '')\n",
    "\n",
    "            # Buscar y extraer el número de matrícula\n",
    "            if \"Nro Matrícula\" in text:\n",
    "                registration_number = text.split(\":\")[-1].strip()\n",
    "                info['registration_number'] = registration_number\n",
    "\n",
    "            # Buscar y extraer la fecha de impresión y convertirla al formato YYYY-MM-DD\n",
    "            if \"Impreso el\" in text:\n",
    "                match = re.search(r'Impreso el (\\d{1,2}) de (\\w+) de (\\d{4})', text)\n",
    "                if match:\n",
    "                    day = match.group(1)\n",
    "                    month = match.group(2)\n",
    "                    year = match.group(3)\n",
    "                    month_number = month_mapping.get(month, \"01\")\n",
    "                    print_date = f\"{year}-{month_number.zfill(2)}-{day.zfill(2)}\"\n",
    "                    info['print_date'] = print_date\n",
    "\n",
    "            # Buscar y extraer el departamento, municipio y vereda\n",
    "            if \"CIRCULO REGISTRAL\" in text:\n",
    "                depto_match = re.search(r'DEPTO:\\s*([^ ]+)', text)\n",
    "                municipio_match = re.search(r'MUNICIPIO:\\s*([^ ]+)', text)\n",
    "                vereda_match = re.search(r'VEREDA:\\s*([^ ]+)', text)\n",
    "\n",
    "                if depto_match:\n",
    "                    department = depto_match.group(1).strip()\n",
    "                    info['department'] = department\n",
    "\n",
    "                if municipio_match:\n",
    "                    municipality = municipio_match.group(1).strip()\n",
    "                    info['municipality'] = municipality\n",
    "\n",
    "                if vereda_match:\n",
    "                    locality = vereda_match.group(1).strip()\n",
    "                    info['locality'] = locality\n",
    "\n",
    "            # Buscar y extraer el estado del folio\n",
    "            if \"ESTADO DEL FOLIO:\" in text:\n",
    "                found_status_label = True\n",
    "            elif found_status_label:\n",
    "                status = text.strip()\n",
    "                info['status'] = status\n",
    "                found_status_label = False\n",
    "\n",
    "    return info"
   ]
  },
  {
   "cell_type": "code",
   "execution_count": 4,
   "metadata": {},
   "outputs": [],
   "source": [
    "def main(file_path):\n",
    "    data = load_json(file_path)\n",
    "    info = extract_info(data)\n",
    "    \n",
    "    print(\"Número de Matrícula:\", info['registration_number'])\n",
    "    print(\"Fecha de Impresión:\", info['print_date'])\n",
    "    print(\"Departamento:\", info['department'])\n",
    "    print(\"Municipio:\", info['municipality'])\n",
    "    print(\"Localidad (Vereda):\", info['locality'])\n",
    "    print(\"Estado del Folio:\", info['status'])"
   ]
  },
  {
   "cell_type": "markdown",
   "metadata": {},
   "source": [
    "Proceso"
   ]
  },
  {
   "cell_type": "code",
   "execution_count": 8,
   "metadata": {},
   "outputs": [
    {
     "name": "stdout",
     "output_type": "stream",
     "text": [
      "Número de Matrícula: 001-1007202\n",
      "Fecha de Impresión: 2022-03-01\n",
      "Departamento: ANTIOQUIA\n",
      "Municipio: MEDELLIN\n",
      "Localidad (Vereda): MEDELLIN\n",
      "Estado del Folio: ACTIVO\n"
     ]
    }
   ],
   "source": [
    "if __name__ == \"__main__\":\n",
    "    file_path = \"G:/Mi unidad/Prueba Bancolombia/001-1007202-220301269555588250_pag1.json\"\n",
    "    main(file_path)"
   ]
  },
  {
   "cell_type": "code",
   "execution_count": 10,
   "metadata": {},
   "outputs": [
    {
     "name": "stdout",
     "output_type": "stream",
     "text": [
      "Número de Matrícula: 040-464031\n",
      "Fecha de Impresión: 2022-02-04\n",
      "Departamento: ATLANTICO\n",
      "Municipio: BARRANQUILLA\n",
      "Localidad (Vereda): BARRANQUILLA\n",
      "Estado del Folio: ACTIVO\n"
     ]
    }
   ],
   "source": [
    "if __name__ == \"__main__\":\n",
    "    file_path = \"G:/Mi unidad/Prueba Bancolombia/040-464031-220204640254303951_pag1.json\"\n",
    "    main(file_path)"
   ]
  }
 ],
 "metadata": {
  "kernelspec": {
   "display_name": "Python 3",
   "language": "python",
   "name": "python3"
  },
  "language_info": {
   "codemirror_mode": {
    "name": "ipython",
    "version": 3
   },
   "file_extension": ".py",
   "mimetype": "text/x-python",
   "name": "python",
   "nbconvert_exporter": "python",
   "pygments_lexer": "ipython3",
   "version": "3.11.9"
  }
 },
 "nbformat": 4,
 "nbformat_minor": 2
}
